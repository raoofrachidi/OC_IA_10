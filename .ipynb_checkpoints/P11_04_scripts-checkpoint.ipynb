{
 "cells": [
  {
   "cell_type": "markdown",
   "id": "7507f712",
   "metadata": {},
   "source": [
    "# Développez un chatbot pour réserver des vacances\n",
    "\n",
    "## Sommaire\n",
    "\n",
    "* [I. Préambule](#I)\n",
    "* [II. Chargement des données](#II)\n",
    "* [III. Mise en place de LUIS](#III)\n",
    "    * [1. Création de l'application](#III1)\n",
    "    * [2. Entraînement de l'application](#III2)\n",
    "        \n",
    "## I. Préambule<a class=\"anchor\" id=\"I\"></a>\n",
    "\n",
    "Fly Me est une agence qui propose des voyages clé en main pour les particuliers ou les professionnels. \n",
    "\n",
    "Ils ont lancé un projet ambitieux de développement d’un chatbot pour aider les utilisateurs à choisir une offre de voyage.\n",
    "\n",
    "La première étape de ce projet est de construire un MVP qui aidera les employés de Fly Me à réserver facilement un billet d’avion pour leurs vacances.\n",
    "\n",
    "Ce premier MVP nous permettra de pouvoir tester rapidement et à grande échelle le concept et les performances du chatbot.\n",
    "\n",
    "Comme ce projet est itératif, nous avons limité les fonctionnalités de la V1 du chatbot. La V1 devra pouvoir identifier dans la demande de l’utilisateur les cinq éléments suivants :\n",
    "* Ville de départ\n",
    "* Ville de destination\n",
    "* Date aller souhaitée du vol\n",
    "* Date retour souhaitée du vol\n",
    "* Budget maximum pour le prix total des billets.\n",
    "\n",
    "Si un des éléments est manquant, le chatbot devra pouvoir poser les questions pertinentes, en anglais, à l’utilisateur pour comprendre complètement sa demande. Lorsque le chatbot pense avoir compris tous les éléments de la demande de l’utilisateur, il doit pouvoir reformuler la demande de l’utilisateur et lui demander de valider sa compréhension."
   ]
  },
  {
   "cell_type": "code",
   "execution_count": 13,
   "id": "1cdbbfb8",
   "metadata": {},
   "outputs": [],
   "source": [
    "# Import libraries\n",
    "import os\n",
    "import uuid\n",
    "import time\n",
    "import json\n",
    "\n",
    "# Math libraries to process the data \n",
    "import numpy as np \n",
    "import pandas as pd\n",
    "\n",
    "# Libraries\n",
    "from azure.cognitiveservices.language.luis.authoring import LUISAuthoringClient\n",
    "from azure.cognitiveservices.language.luis.runtime import LUISRuntimeClient\n",
    "from msrest.authentication import CognitiveServicesCredentials\n",
    "from azure.cognitiveservices.language.luis.authoring.models import ApplicationCreateObject\n",
    "\n",
    "# Graph libraries to produce graphs \n",
    "import matplotlib.pyplot as plt \n",
    "import seaborn as sns \n",
    "import plotly.express as px\n",
    "\n",
    "pd.options.mode.chained_assignment = None"
   ]
  },
  {
   "cell_type": "markdown",
   "id": "2f8b42b6",
   "metadata": {},
   "source": [
    "## II. Chargement des données<a class=\"anchor\" id=\"II\"></a>\n",
    "\n",
    "Nous allons charger les données en mémoire."
   ]
  },
  {
   "cell_type": "code",
   "execution_count": 7,
   "id": "d71e68b0",
   "metadata": {},
   "outputs": [],
   "source": [
    "def entity_char(entity_name, frame):\n",
    "    # Load entity part of the frame\n",
    "    entities = frame['labels']['frames'][0]['info']\n",
    "    str_entire = frame['labels']['frames'][0]['info'][entity_name][0]['val'].lower()\n",
    "    return str_entire.split('.')[0]\n",
    "\n",
    "def entity_data(entity_char, text, entity_name):\n",
    "    start_index = max(text.find(entity_char), 0)\n",
    "    end_char_index = max(text.find(entity_char) + len(entity_char) - 1, 0)\n",
    "    return {'startCharIndex': start_index, 'endCharIndex': end_char_index, 'entityName': entity_name}\n",
    "\n",
    "def entity_data_dict(frame, pf_entities, intent_name):\n",
    "    text = frame['text'].lower()\n",
    "    entities = frame['labels']['frames'][0]['info']    \n",
    "    entity_list = []\n",
    "    for entity_name in pf_entities:\n",
    "        # Check if entities exist\n",
    "        if entity_name in entities.keys():\n",
    "            # Check if value is not -1\n",
    "            if entity_char(entity_name, frame)!='-1':\n",
    "                entity_list.append(entity_data(entity_char(entity_name, frame), text, entity_name))\n",
    "    dict_output = {\n",
    "        \"text\": text,\n",
    "        \"intentName\": intent_name,\n",
    "        \"entityLabels\": entity_list\n",
    "    }\n",
    "    return dict_output\n",
    "\n",
    "dataframe = pd.read_json(\"data/frames.json\")\n",
    "pf_entities = ['or_city','dst_city','str_date','end_date','budget']\n",
    "utterances = [\n",
    "    entity_data_dict(\n",
    "        dataframe['turns'][x][0], pf_entities, \"BookFlightIntent\"\n",
    "    ) for x in range(0, len(dataframe['turns']))\n",
    "]\n",
    "\n",
    "if not os.path.exists(\"data/utterances_train.json\"):\n",
    "    utterances_train = utterances[:-107]\n",
    "\n",
    "    with open('data/utterances_train.json', 'w') as f:\n",
    "        f.write(json.dumps(utterances_train))\n",
    "else:\n",
    "    with open(\"data/utterances_train.json\") as f:\n",
    "        utterances_train = json.load(f)\n",
    "\n",
    "if not os.path.exists(\"data/utterances_test.json\"):\n",
    "    utterances_test = utterances[-107:]\n",
    "\n",
    "    with open('data/utterances_test.json', 'w') as f:\n",
    "        f.write(json.dumps(utterances_test))\n",
    "else:\n",
    "    with open(\"data/utterances_test.json\") as f:\n",
    "        utterances_test = json.load(f)"
   ]
  },
  {
   "cell_type": "markdown",
   "id": "ad0d6614",
   "metadata": {},
   "source": [
    "## III. Mise en place de LUIS<a class=\"anchor\" id=\"III\"></a>\n",
    "\n",
    "### 1. Création de l'application<a class=\"anchor\" id=\"III1\"></a>\n",
    "\n",
    "Language Understanding (LUIS) nous permet d’appliquer un traitement en langage naturel au texte en langage naturel des conversations d’un utilisateur afin d’en prédire le sens général, et d’en extraire des informations détaillées et pertinentes.\n",
    "\n",
    "Une application LUIS stocke le modèle de traitement en langage naturel contenant les intentions, les entités et les exemples d'énoncés."
   ]
  },
  {
   "cell_type": "code",
   "execution_count": 8,
   "id": "0cab143d",
   "metadata": {},
   "outputs": [
    {
     "name": "stdout",
     "output_type": "stream",
     "text": [
      "Created LUIS app with ID c2c633a2-382a-488e-9847-9851ba057666\n"
     ]
    }
   ],
   "source": [
    "# Create variables\n",
    "authoring_key = \"79b60d071a594d15b2a83e30ac9dc8c4\"\n",
    "authoring_endpoint = \"https://chatbotluisoc-authoring.cognitiveservices.azure.com/\"\n",
    "prediction_key = \"c4d06d80ea7b4e608eadfc44b51ec3bb\"\n",
    "prediction_endpoint = \"https://chatbot-luis-oc.cognitiveservices.azure.com/\"\n",
    "app_name = \"P10 chatbot \" + str(uuid.uuid4())\n",
    "version_id = \"0.1\"\n",
    "intent_name = \"BookFlightIntent\"\n",
    "\n",
    "# Create client\n",
    "client = LUISAuthoringClient(authoring_endpoint, CognitiveServicesCredentials(authoring_key))\n",
    "\n",
    "# Define app basics\n",
    "app_definition = ApplicationCreateObject(name=app_name, initial_version_id=version_id, culture='en-us')\n",
    "\n",
    "# Create app\n",
    "app_id = client.apps.add(app_definition)\n",
    "\n",
    "# Get app id - necessary for all other changes\n",
    "print(\"Created LUIS app with ID {}\".format(app_id))"
   ]
  },
  {
   "cell_type": "markdown",
   "id": "e37b726c",
   "metadata": {},
   "source": [
    "L’objet principal dans un modèle d’application LUIS est l’intention. L’intention s’aligne sur un regroupement d’intentions d’énoncés utilisateur. Un utilisateur peut poser une question ou émettre un énoncé en souhaitant obtenir une réponse prévue particulière d’un bot (ou d’une autre application cliente). Réserver un billet d’avion, demander quelle est la météo dans une ville de destination et demander des informations de contact pour un service client sont des exemples d’intentions."
   ]
  },
  {
   "cell_type": "code",
   "execution_count": 9,
   "id": "d0d54f8b",
   "metadata": {},
   "outputs": [
    {
     "data": {
      "text/plain": [
       "'72b0aa1d-f70a-4efa-827e-ce5af5edfb44'"
      ]
     },
     "execution_count": 9,
     "metadata": {},
     "output_type": "execute_result"
    }
   ],
   "source": [
    "# Add new intention\n",
    "client.model.add_intent(app_id, version_id, intent_name)"
   ]
  },
  {
   "cell_type": "markdown",
   "id": "752e8ec3",
   "metadata": {},
   "source": [
    "Les entités, elles, ne soient pas obligatoires, elles sont présentes dans la plupart des applications. L’entité extrait des informations à partir de l’énoncé utilisateur, qui sont nécessaires pour répondre à l’intention de l’utilisateur. Il existe plusieurs types d’entités prédéfinies et personnalisées, chacune avec leurs propres modèles DTO (Data Transformation Object). Les entités prédéfinies courantes à ajouter à notre application incluent number, datetimeV2, geographyV2 et ordinal.\n",
    "\n",
    "Il est important de savoir que les entités ne sont pas marquées avec une intention. Elles peuvent s’appliquer à de nombreuses intentions. Seuls les exemples d’énoncés utilisateur sont marqués pour une intention unique spécifique."
   ]
  },
  {
   "cell_type": "code",
   "execution_count": 10,
   "id": "248c25e9",
   "metadata": {},
   "outputs": [],
   "source": [
    "# Add Entities\n",
    "model_id = client.model.add_entity(app_id, version_id, name=\"or_city\")\n",
    "model_id = client.model.add_entity(app_id, version_id, name=\"dst_city\")\n",
    "model_id = client.model.add_entity(app_id, version_id, name=\"end_date\")\n",
    "model_id = client.model.add_entity(app_id, version_id, name=\"str_date\")\n",
    "model_id = client.model.add_entity(app_id, version_id, name=\"budget\")"
   ]
  },
  {
   "cell_type": "markdown",
   "id": "06768e65",
   "metadata": {},
   "source": [
    "Pour déterminer l’intention d’un énoncé et extraire des entités, l’application a besoin d’exemples d’énoncés. Les exemples doivent cibler une intention spécifique et unique, et doivent marquer toutes les entités personnalisées. Les entités prédéfinies n’ont pas besoin d’être marquées."
   ]
  },
  {
   "cell_type": "code",
   "execution_count": 11,
   "id": "922e0c00",
   "metadata": {},
   "outputs": [
    {
     "name": "stdout",
     "output_type": "stream",
     "text": [
      "Unconformity 1 indice 19\n",
      "\n",
      "Unconformity 2 indice 21\n",
      "\n",
      "Unconformity 3 indice 32\n",
      "\n",
      "Unconformity 4 indice 47\n",
      "\n",
      "Unconformity 5 indice 182\n",
      "\n",
      "Unconformity 6 indice 265\n",
      "\n",
      "Unconformity 7 indice 310\n",
      "\n",
      "Unconformity 8 indice 334\n",
      "\n",
      "Unconformity 9 indice 382\n",
      "\n",
      "Unconformity 10 indice 390\n",
      "\n",
      "Unconformity 11 indice 394\n",
      "\n",
      "Unconformity 12 indice 424\n",
      "\n",
      "Unconformity 13 indice 425\n",
      "\n",
      "Unconformity 14 indice 430\n",
      "\n",
      "Unconformity 15 indice 446\n",
      "\n",
      "Unconformity 16 indice 456\n",
      "\n",
      "Unconformity 17 indice 512\n",
      "\n",
      "Unconformity 18 indice 553\n",
      "\n",
      "Unconformity 19 indice 578\n",
      "\n",
      "Unconformity 20 indice 667\n",
      "\n",
      "Unconformity 21 indice 692\n",
      "\n",
      "Unconformity 22 indice 771\n",
      "\n",
      "Unconformity 23 indice 800\n",
      "\n",
      "Unconformity 24 indice 826\n",
      "\n",
      "Unconformity 25 indice 837\n",
      "\n",
      "Unconformity 26 indice 867\n",
      "\n",
      "Unconformity 27 indice 891\n",
      "\n",
      "Unconformity 28 indice 949\n",
      "\n",
      "Unconformity 29 indice 957\n",
      "\n",
      "Unconformity 30 indice 997\n",
      "\n",
      "Unconformity 31 indice 1003\n",
      "\n",
      "Unconformity 32 indice 1017\n",
      "\n",
      "Unconformity 33 indice 1023\n",
      "\n",
      "Unconformity 34 indice 1033\n",
      "\n",
      "Unconformity 35 indice 1035\n",
      "\n",
      "Unconformity 36 indice 1074\n",
      "\n",
      "Unconformity 37 indice 1091\n",
      "\n",
      "Unconformity 38 indice 1101\n",
      "\n",
      "Unconformity 39 indice 1126\n",
      "\n",
      "Unconformity 40 indice 1135\n",
      "\n",
      "Unconformity 41 indice 1140\n",
      "\n",
      "Unconformity 42 indice 1166\n",
      "\n",
      "Unconformity 43 indice 1167\n",
      "\n",
      "Unconformity 44 indice 1180\n",
      "\n",
      "Unconformity 45 indice 1190\n",
      "\n",
      "Unconformity 46 indice 1205\n",
      "\n",
      "Unconformity 47 indice 1207\n",
      "\n",
      "Unconformity 48 indice 1218\n",
      "\n",
      "Unconformity 49 indice 1229\n",
      "\n",
      "Unconformity 50 indice 1243\n",
      "\n",
      "Unconformity 51 indice 1250\n",
      "\n",
      "Unconformity 52 indice 1254\n",
      "\n",
      "Unconformity 53 indice 1257\n",
      "\n"
     ]
    }
   ],
   "source": [
    "# Add examples and identify non conformity\n",
    "unconformity = 0\n",
    "for x in range(0, len(utterances_train)):\n",
    "    try:\n",
    "        client.examples.add(app_id, version_id, utterances_train[x])\n",
    "    except Exception as e:\n",
    "        unconformity += 1\n",
    "        print(f'Unconformity {unconformity} indice {x}\\n')"
   ]
  },
  {
   "cell_type": "markdown",
   "id": "82250583",
   "metadata": {},
   "source": [
    "### 2. Entraînement de l'application<a class=\"anchor\" id=\"III2\"></a>\n",
    "\n",
    "Maintenant que le modèle est créé, l’application LUIS va être entraînée pour cette version du modèle. Un modèle entraîné peut être utilisé dans un conteneur ou publié dans les emplacements intermédiaires ou produits.\n",
    "\n",
    "Un petit modèle sera entraîné très rapidement. Pour les applications de niveau production, l’entraînement de l’application va devoir inclure un appel d’interrogation à la méthode get_status pour déterminer si l’entraînement a réussi. Tous les objets doivent réussir pour que l’entraînement soit considéré comme terminé."
   ]
  },
  {
   "cell_type": "code",
   "execution_count": 14,
   "id": "3150de40",
   "metadata": {},
   "outputs": [
    {
     "name": "stdout",
     "output_type": "stream",
     "text": [
      "We'll start training your app...\n",
      "Training done\n"
     ]
    }
   ],
   "source": [
    "print(\"We'll start training your app...\")\n",
    "\n",
    "async_training = client.train.train_version(app_id, version_id)\n",
    "is_trained = async_training.status == \"UpToDate\"\n",
    "\n",
    "trained_status = [\"UpToDate\", \"Success\"]\n",
    "while not is_trained:\n",
    "    time.sleep(1)\n",
    "    status = client.train.get_status(app_id, version_id)\n",
    "    is_trained = all(m.details.status in trained_status for m in status)\n",
    "    \n",
    "print(\"Training done\")"
   ]
  },
  {
   "cell_type": "markdown",
   "id": "8dd5f83a",
   "metadata": {},
   "source": [
    "Nous allons publier l’application LUIS. Cela va permettre de la publier à l’emplacement spécifié au point de terminaison. Notre application cliente utilise ce point de terminaison afin d’envoyer des énoncés utilisateur pour la prédiction de l’intention et l’extraction d’entité."
   ]
  },
  {
   "cell_type": "code",
   "execution_count": 15,
   "id": "8382764d",
   "metadata": {},
   "outputs": [
    {
     "name": "stdout",
     "output_type": "stream",
     "text": [
      "We'll start publishing your app...\n",
      "Your app is published. You can now go to test it on\n",
      "https://westeurope.api.cognitive.microsoft.com/luis/v2.0/apps/c2c633a2-382a-488e-9847-9851ba057666?subscription-key=79b60d071a594d15b2a83e30ac9dc8c4&q=\n"
     ]
    }
   ],
   "source": [
    "print(\"We'll start publishing your app...\")\n",
    "client.apps.update_settings(app_id, is_public=True)\n",
    "publish_result = client.apps.publish(app_id, version_id, is_staging=False)\n",
    "publish_result.as_dict()\n",
    "endpoint = publish_result.endpoint_url + \"?subscription-key=\" + authoring_key + \"&q=\"\n",
    "print(\"Your app is published. You can now go to test it on\\n{}\".format(endpoint))"
   ]
  },
  {
   "cell_type": "markdown",
   "id": "1271872d",
   "metadata": {},
   "source": [
    "Nous allons créer une requête à adresser au runtime de prédiction. Cette requête va nous retourner un objet PredictionResponse."
   ]
  },
  {
   "cell_type": "code",
   "execution_count": 17,
   "id": "0e1e98ad",
   "metadata": {},
   "outputs": [
    {
     "name": "stdout",
     "output_type": "stream",
     "text": [
      "Query: i want to look at trips from san jose to dublin for 3500 and under.\n",
      "Top intent: BookFlightIntent\n",
      "Intents: \n",
      "\t\"BookFlightIntent\"\n",
      "Entities: {'or_city': ['san jose'], 'dst_city': ['dublin'], 'budget': ['3500']}\n"
     ]
    }
   ],
   "source": [
    "runtime_credentials = CognitiveServicesCredentials(prediction_key)\n",
    "client_runtime = LUISRuntimeClient(endpoint=prediction_endpoint, credentials=runtime_credentials)\n",
    "\n",
    "# Test with one utterance\n",
    "prediction_request = { \"query\" : utterances_test[0]['text'] }\n",
    "result = client_runtime.prediction.get_slot_prediction(app_id, \"Production\", prediction_request)\n",
    "\n",
    "print(\"Query: {}\".format(utterances_test[0]['text']))\n",
    "print(\"Top intent: {}\".format(result.prediction.top_intent))\n",
    "print(\"Intents: \")\n",
    "for intent in result.prediction.intents:\n",
    "    print(\"\\t{}\".format (json.dumps (intent)))\n",
    "print(\"Entities: {}\".format (result.prediction.entities))"
   ]
  }
 ],
 "metadata": {
  "kernelspec": {
   "display_name": "Python 3 (ipykernel)",
   "language": "python",
   "name": "python3"
  },
  "language_info": {
   "codemirror_mode": {
    "name": "ipython",
    "version": 3
   },
   "file_extension": ".py",
   "mimetype": "text/x-python",
   "name": "python",
   "nbconvert_exporter": "python",
   "pygments_lexer": "ipython3",
   "version": "3.9.7"
  }
 },
 "nbformat": 4,
 "nbformat_minor": 5
}
