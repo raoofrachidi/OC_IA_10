{
 "cells": [
  {
   "cell_type": "markdown",
   "id": "7507f712",
   "metadata": {},
   "source": [
    "# Développez un chatbot pour réserver des vacances\n",
    "\n",
    "## Sommaire\n",
    "\n",
    "* [I. Préambule](#I)\n",
    "* [II. Chargement des données](#II)\n",
    "* [III. Mise en place de LUIS](#III)\n",
    "    * [1. Création de l'application](#III1)\n",
    "    * [2. Entraînement de l'application](#III2)\n",
    "        \n",
    "## I. Préambule<a class=\"anchor\" id=\"I\"></a>\n",
    "\n",
    "Fly Me est une agence qui propose des voyages clé en main pour les particuliers ou les professionnels. \n",
    "\n",
    "Ils ont lancé un projet ambitieux de développement d’un chatbot pour aider les utilisateurs à choisir une offre de voyage.\n",
    "\n",
    "La première étape de ce projet est de construire un MVP qui aidera les employés de Fly Me à réserver facilement un billet d’avion pour leurs vacances.\n",
    "\n",
    "Ce premier MVP nous permettra de pouvoir tester rapidement et à grande échelle le concept et les performances du chatbot.\n",
    "\n",
    "Comme ce projet est itératif, nous avons limité les fonctionnalités de la V1 du chatbot. La V1 devra pouvoir identifier dans la demande de l’utilisateur les cinq éléments suivants :\n",
    "* Ville de départ\n",
    "* Ville de destination\n",
    "* Date aller souhaitée du vol\n",
    "* Date retour souhaitée du vol\n",
    "* Budget maximum pour le prix total des billets.\n",
    "\n",
    "Si un des éléments est manquant, le chatbot devra pouvoir poser les questions pertinentes, en anglais, à l’utilisateur pour comprendre complètement sa demande. Lorsque le chatbot pense avoir compris tous les éléments de la demande de l’utilisateur, il doit pouvoir reformuler la demande de l’utilisateur et lui demander de valider sa compréhension."
   ]
  },
  {
   "cell_type": "code",
   "execution_count": 1,
   "id": "1cdbbfb8",
   "metadata": {},
   "outputs": [],
   "source": [
    "# Import libraries\n",
    "import os\n",
    "import uuid\n",
    "import time\n",
    "import json\n",
    "\n",
    "# Math libraries to process the data \n",
    "import numpy as np \n",
    "import pandas as pd\n",
    "\n",
    "# Libraries\n",
    "from azure.cognitiveservices.language.luis.authoring import LUISAuthoringClient\n",
    "from azure.cognitiveservices.language.luis.runtime import LUISRuntimeClient\n",
    "from msrest.authentication import CognitiveServicesCredentials\n",
    "from azure.cognitiveservices.language.luis.authoring.models import ApplicationCreateObject\n",
    "\n",
    "# Graph libraries to produce graphs \n",
    "import matplotlib.pyplot as plt \n",
    "import seaborn as sns \n",
    "import plotly.express as px\n",
    "\n",
    "pd.options.mode.chained_assignment = None"
   ]
  },
  {
   "cell_type": "markdown",
   "id": "2f8b42b6",
   "metadata": {},
   "source": [
    "## II. Chargement des données<a class=\"anchor\" id=\"II\"></a>\n",
    "\n",
    "Nous allons charger les données en mémoire."
   ]
  },
  {
   "cell_type": "code",
   "execution_count": 2,
   "id": "d71e68b0",
   "metadata": {},
   "outputs": [],
   "source": [
    "def entity_char(entity_name, frame):\n",
    "    # Load entity part of the frame\n",
    "    entities = frame['labels']['frames'][0]['info']\n",
    "    str_entire = frame['labels']['frames'][0]['info'][entity_name][0]['val'].lower()\n",
    "    return str_entire.split('.')[0]\n",
    "\n",
    "def entity_data(entity_char, text, entity_name):\n",
    "    start_index = max(text.find(entity_char), 0)\n",
    "    end_char_index = max(text.find(entity_char) + len(entity_char) - 1, 0)\n",
    "    return {'startCharIndex': start_index, 'endCharIndex': end_char_index, 'entityName': entity_name}\n",
    "\n",
    "def entity_data_dict(frame, pf_entities, intent_name):\n",
    "    text = frame['text'].lower()\n",
    "    entities = frame['labels']['frames'][0]['info']    \n",
    "    entity_list = []\n",
    "    for entity_name in pf_entities:\n",
    "        # Check if entities exist\n",
    "        if entity_name in entities.keys():\n",
    "            # Check if value is not -1\n",
    "            if entity_char(entity_name, frame)!='-1':\n",
    "                entity_list.append(entity_data(entity_char(entity_name, frame), text, entity_name))\n",
    "    dict_output = {\n",
    "        \"text\": text,\n",
    "        \"intentName\": intent_name,\n",
    "        \"entityLabels\": entity_list\n",
    "    }\n",
    "    return dict_output\n",
    "\n",
    "dataframe = pd.read_json(\"data/frames.json\")\n",
    "pf_entities = ['or_city','dst_city','str_date','end_date','budget']\n",
    "utterances = [\n",
    "    entity_data_dict(\n",
    "        dataframe['turns'][x][0], pf_entities, \"BookFlightIntent\"\n",
    "    ) for x in range(0, len(dataframe['turns']))\n",
    "]\n",
    "\n",
    "if not os.path.exists(\"data/utterances_train.json\"):\n",
    "    utterances_train = utterances[:-107]\n",
    "\n",
    "    with open('data/utterances_train.json', 'w') as f:\n",
    "        f.write(json.dumps(utterances_train))\n",
    "else:\n",
    "    with open(\"data/utterances_train.json\") as f:\n",
    "        utterances_train = json.load(f)\n",
    "\n",
    "if not os.path.exists(\"data/utterances_test.json\"):\n",
    "    utterances_test = utterances[-107:]\n",
    "\n",
    "    with open('data/utterances_test.json', 'w') as f:\n",
    "        f.write(json.dumps(utterances_test))\n",
    "else:\n",
    "    with open(\"data/utterances_test.json\") as f:\n",
    "        utterances_test = json.load(f)"
   ]
  },
  {
   "cell_type": "markdown",
   "id": "ad0d6614",
   "metadata": {},
   "source": [
    "## III. Mise en place de LUIS<a class=\"anchor\" id=\"III\"></a>\n",
    "\n",
    "### 1. Création de l'application<a class=\"anchor\" id=\"III1\"></a>\n",
    "\n",
    "Language Understanding (LUIS) nous permet d’appliquer un traitement en langage naturel au texte en langage naturel des conversations d’un utilisateur afin d’en prédire le sens général, et d’en extraire des informations détaillées et pertinentes.\n",
    "\n",
    "Une application LUIS stocke le modèle de traitement en langage naturel contenant les intentions, les entités et les exemples d'énoncés."
   ]
  },
  {
   "cell_type": "code",
   "execution_count": 20,
   "id": "0cab143d",
   "metadata": {},
   "outputs": [
    {
     "name": "stdout",
     "output_type": "stream",
     "text": [
      "Created LUIS app with ID e74cfb8e-ebf7-4c7a-9ffa-6204da13dc26\n"
     ]
    }
   ],
   "source": [
    "# Create variables\n",
    "authoring_key = \"54bc33c0ca9149cdb8dac60dbdaa66c4\"\n",
    "authoring_endpoint = \"https://flybotluisoc-authoring.cognitiveservices.azure.com/\"\n",
    "prediction_key = \"e15b3b7436744cc1b7d3c15b2d3dc162\"\n",
    "prediction_endpoint = \"https://flybotluisoc.cognitiveservices.azure.com/\"\n",
    "\n",
    "app_name = \"FlyBot-LUIS\"\n",
    "version_id = \"0.1\"\n",
    "intent_name = \"BookFlightIntent\"\n",
    "\n",
    "# Create client\n",
    "client = LUISAuthoringClient(authoring_endpoint, CognitiveServicesCredentials(authoring_key))\n",
    "\n",
    "# Define app basics\n",
    "app_definition = ApplicationCreateObject(name=app_name, initial_version_id=version_id, culture='en-us')\n",
    "\n",
    "# Create app\n",
    "app_id = client.apps.add(app_definition)\n",
    "\n",
    "# Get app id - necessary for all other changes\n",
    "print(\"Created LUIS app with ID {}\".format(app_id))"
   ]
  },
  {
   "cell_type": "markdown",
   "id": "e37b726c",
   "metadata": {},
   "source": [
    "L’objet principal dans un modèle d’application LUIS est l’intention. L’intention s’aligne sur un regroupement d’intentions d’énoncés utilisateurs. Un utilisateur peut poser une question ou émettre un énoncé en souhaitant obtenir une réponse prévue particulière d’un bot (ou d’une autre application cliente). Réserver un billet d’avion, demander quelle est la météo dans une ville de destination et demander des informations de contact pour un service client sont des exemples d’intentions."
   ]
  },
  {
   "cell_type": "code",
   "execution_count": 21,
   "id": "d0d54f8b",
   "metadata": {},
   "outputs": [
    {
     "data": {
      "text/plain": [
       "'7dc87e77-fed3-4554-b4b2-bf246b09fcda'"
      ]
     },
     "execution_count": 21,
     "metadata": {},
     "output_type": "execute_result"
    }
   ],
   "source": [
    "# Add new intention\n",
    "client.model.add_intent(app_id, version_id, intent_name)"
   ]
  },
  {
   "cell_type": "markdown",
   "id": "752e8ec3",
   "metadata": {},
   "source": [
    "Les entités, elles, ne sont pas obligatoires, elles sont présentes dans la plupart des applications. L’entité extrait des informations à partir de l’énoncé utilisateur, qui sont nécessaires pour répondre à l’intention de l’utilisateur. Il existe plusieurs types d’entités prédéfinies et personnalisées, chacune avec leurs propres modèles DTO (Data Transformation Object). Les entités prédéfinies courantes à ajouter à notre application incluent number, datetimeV2, geographyV2 et ordinal.\n",
    "\n",
    "Il est important de savoir que les entités ne sont pas marquées avec une intention. Elles peuvent s’appliquer à de nombreuses intentions. Seuls les exemples d’énoncés utilisateur sont marqués pour une intention unique spécifique."
   ]
  },
  {
   "cell_type": "code",
   "execution_count": 22,
   "id": "248c25e9",
   "metadata": {},
   "outputs": [],
   "source": [
    "# Add Entities\n",
    "model_id = client.model.add_entity(app_id, version_id, name=\"or_city\")\n",
    "model_id = client.model.add_entity(app_id, version_id, name=\"dst_city\")\n",
    "model_id = client.model.add_entity(app_id, version_id, name=\"end_date\")\n",
    "model_id = client.model.add_entity(app_id, version_id, name=\"str_date\")\n",
    "model_id = client.model.add_entity(app_id, version_id, name=\"budget\")"
   ]
  },
  {
   "cell_type": "markdown",
   "id": "06768e65",
   "metadata": {},
   "source": [
    "Pour déterminer l’intention d’un énoncé et extraire des entités, l’application a besoin d’exemples d’énoncés. Les exemples doivent cibler une intention spécifique et unique, et doivent marquer toutes les entités personnalisées. Les entités prédéfinies n’ont pas besoin d’être marquées."
   ]
  },
  {
   "cell_type": "code",
   "execution_count": 23,
   "id": "922e0c00",
   "metadata": {},
   "outputs": [],
   "source": [
    "# Add examples\n",
    "for x in range(0, len(utterances_train)):\n",
    "    try:\n",
    "        client.examples.add(app_id, version_id, utterances_train[x])\n",
    "    except Exception as e:\n",
    "        pass"
   ]
  },
  {
   "cell_type": "markdown",
   "id": "82250583",
   "metadata": {},
   "source": [
    "### 2. Entraînement de l'application<a class=\"anchor\" id=\"III2\"></a>\n",
    "\n",
    "Maintenant que le modèle est créé, l’application LUIS va être entraînée pour cette version du modèle. Un modèle entraîné peut être utilisé dans un conteneur ou publié dans les emplacements intermédiaires ou produits.\n",
    "\n",
    "Un petit modèle sera entraîné très rapidement. Pour les applications de niveau production, l’entraînement de l’application va devoir inclure un appel d’interrogation à la méthode get_status pour déterminer si l’entraînement a réussi. Tous les objets doivent réussir pour que l’entraînement soit considéré comme terminé."
   ]
  },
  {
   "cell_type": "code",
   "execution_count": 24,
   "id": "3150de40",
   "metadata": {},
   "outputs": [
    {
     "name": "stdout",
     "output_type": "stream",
     "text": [
      "We'll start training your app...\n",
      "Training done\n"
     ]
    }
   ],
   "source": [
    "print(\"We'll start training your app...\")\n",
    "\n",
    "async_training = client.train.train_version(app_id, version_id)\n",
    "is_trained = async_training.status == \"UpToDate\"\n",
    "\n",
    "trained_status = [\"UpToDate\", \"Success\"]\n",
    "while not is_trained:\n",
    "    time.sleep(1)\n",
    "    status = client.train.get_status(app_id, version_id)\n",
    "    is_trained = all(m.details.status in trained_status for m in status)\n",
    "    \n",
    "print(\"Training done\")"
   ]
  },
  {
   "cell_type": "markdown",
   "id": "8dd5f83a",
   "metadata": {},
   "source": [
    "Nous allons publier l’application LUIS. Cela va permettre de la publier à l’emplacement spécifié au point de terminaison. Notre application cliente utilise ce point de terminaison afin d’envoyer des énoncés utilisateur pour la prédiction de l’intention et l’extraction d’entité."
   ]
  },
  {
   "cell_type": "code",
   "execution_count": 25,
   "id": "8382764d",
   "metadata": {
    "scrolled": true
   },
   "outputs": [
    {
     "name": "stdout",
     "output_type": "stream",
     "text": [
      "We'll start publishing your app...\n",
      "Your app is published. You can now go to test it on\n",
      "https://westeurope.api.cognitive.microsoft.com/luis/v2.0/apps/e74cfb8e-ebf7-4c7a-9ffa-6204da13dc26?subscription-key=54bc33c0ca9149cdb8dac60dbdaa66c4&q=\n"
     ]
    }
   ],
   "source": [
    "print(\"We'll start publishing your app...\")\n",
    "client.apps.update_settings(app_id, is_public=True)\n",
    "publish_result = client.apps.publish(app_id, version_id, is_staging=False)\n",
    "publish_result.as_dict()\n",
    "endpoint = publish_result.endpoint_url + \"?subscription-key=\" + authoring_key + \"&q=\"\n",
    "print(\"Your app is published. You can now go to test it on\\n{}\".format(endpoint))"
   ]
  },
  {
   "cell_type": "markdown",
   "id": "1271872d",
   "metadata": {},
   "source": [
    "Nous allons créer une requête à adresser au runtime de prédiction. Cette requête va nous retourner un objet PredictionResponse."
   ]
  },
  {
   "cell_type": "code",
   "execution_count": 26,
   "id": "0e1e98ad",
   "metadata": {},
   "outputs": [
    {
     "name": "stdout",
     "output_type": "stream",
     "text": [
      "Query: looking to go from san francisco to marseille. book me for september 18 to 22. let me know if its more than 2800 because thats all i can afford\n",
      "Detected entities:\n",
      "\t-> Entity '2800' (type: budget, score:99%)\n",
      "\t-> Entity 'marseille' (type: dst_city, score:99%)\n",
      "\t-> Entity '22' (type: end_date, score:99%)\n",
      "\t-> Entity 'san francisco' (type: or_city, score:99%)\n",
      "\t-> Entity 'september 18' (type: str_date, score:99%)\n"
     ]
    }
   ],
   "source": [
    "runtime_credentials = CognitiveServicesCredentials(prediction_key)\n",
    "client_runtime = LUISRuntimeClient(endpoint=prediction_endpoint, credentials=runtime_credentials)\n",
    "\n",
    "# Test with one utterance\n",
    "query = \"looking to go from san francisco to marseille. book me for september 18 to 22. let me know if its more than 2800 because thats all i can afford\"\n",
    "result = client_runtime.prediction.resolve(app_id, query, verbose=False)\n",
    "\n",
    "print(\"Query: {}\".format(query))\n",
    "print(\"Detected entities:\")\n",
    "for entity in result.entities:\n",
    "    print(\n",
    "        \"\\t-> Entity '{}' (type: {}, score:{:d}%)\".format(\n",
    "            entity.entity,\n",
    "            entity.type,\n",
    "            int(entity.additional_properties['score']*100)\n",
    "        ))"
   ]
  },
  {
   "cell_type": "markdown",
   "id": "34edcc6b",
   "metadata": {},
   "source": [
    "Calculons maintenant le score moyen de chaque entité dans notre fichier de test."
   ]
  },
  {
   "cell_type": "code",
   "execution_count": 27,
   "id": "6402fcaf",
   "metadata": {},
   "outputs": [
    {
     "name": "stdout",
     "output_type": "stream",
     "text": [
      "Mean budget score: 96.919293\n",
      "Mean dst_city score: 97.92328239726027\n",
      "Mean end_date score: 99.7578025\n",
      "Mean or_city score: 96.71587676785714\n",
      "Mean str_date score: 86.69668266666666\n"
     ]
    }
   ],
   "source": [
    "cpt_budget = 0\n",
    "score_budget = 0\n",
    "cpt_dst_city = 0\n",
    "score_dst_city = 0\n",
    "cpt_or_city = 0\n",
    "score_or_city = 0\n",
    "cpt_end_date = 0\n",
    "score_end_date = 0\n",
    "cpt_str_date = 0\n",
    "score_str_date = 0\n",
    "\n",
    "for text in utterances_test:\n",
    "    query = text['text']\n",
    "    result = client_runtime.prediction.resolve(app_id, query, verbose=False)\n",
    "    for entity in result.entities:\n",
    "        if \"budget\" == entity.type:\n",
    "            cpt_budget += 1\n",
    "            score_budget += entity.additional_properties[\"score\"] * 100\n",
    "        if \"dst_city\" == entity.type:\n",
    "            cpt_dst_city += 1\n",
    "            score_dst_city += entity.additional_properties[\"score\"] * 100\n",
    "        if \"end_date\" == entity.type:\n",
    "            cpt_end_date += 1\n",
    "            score_end_date += entity.additional_properties[\"score\"] * 100\n",
    "        if \"or_city\" == entity.type:\n",
    "            cpt_or_city += 1\n",
    "            score_or_city += entity.additional_properties[\"score\"] * 100\n",
    "        if \"str_date\" == entity.type:\n",
    "            cpt_str_date += 1\n",
    "            score_str_date += entity.additional_properties[\"score\"] * 100\n",
    "print(\"Mean budget score: {}\".format(score_budget / cpt_budget))\n",
    "print(\"Mean dst_city score: {}\".format(score_dst_city / cpt_dst_city))\n",
    "print(\"Mean end_date score: {}\".format(score_end_date / cpt_end_date))\n",
    "print(\"Mean or_city score: {}\".format(score_or_city / cpt_or_city))\n",
    "print(\"Mean str_date score: {}\".format(score_str_date / cpt_str_date))"
   ]
  }
 ],
 "metadata": {
  "kernelspec": {
   "display_name": "Python 3 (ipykernel)",
   "language": "python",
   "name": "python3"
  },
  "language_info": {
   "codemirror_mode": {
    "name": "ipython",
    "version": 3
   },
   "file_extension": ".py",
   "mimetype": "text/x-python",
   "name": "python",
   "nbconvert_exporter": "python",
   "pygments_lexer": "ipython3",
   "version": "3.9.7"
  }
 },
 "nbformat": 4,
 "nbformat_minor": 5
}
